{
 "cells": [
  {
   "cell_type": "code",
   "execution_count": 1,
   "id": "flexible-greece",
   "metadata": {},
   "outputs": [],
   "source": [
    "import tifffile as tiff\n",
    "import numpy as np\n",
    "import matplotlib.pyplot as plt\n",
    "from mpl_toolkits.mplot3d import Axes3D\n",
    "from ipywidgets import interact\n",
    "import time\n",
    "from IPython.display import clear_output\n",
    "\n",
    "%matplotlib inline\n",
    "interactive = True\n",
    "recompute_bounds = False\n",
    "plt.rcParams['figure.dpi'] = 150"
   ]
  },
  {
   "cell_type": "code",
   "execution_count": 2,
   "id": "manufactured-assist",
   "metadata": {},
   "outputs": [],
   "source": [
    "baseline = tiff.imread('../data/baseline.tiff')\n",
    "detrended = tiff.imread('../data/detrended.tiff')\n",
    "\n",
    "# fast enough for a one-time computation\n",
    "if recompute_bounds:\n",
    "    lower = min([min(baseline.flatten() + detrended[i].flatten()) for i in range(detrended.shape[0])])\n",
    "    upper = max([max(baseline.flatten() + detrended[i].flatten()) for i in range(detrended.shape[0])])\n",
    "else:\n",
    "    lower, upper = 16646655, 33293310"
   ]
  },
  {
   "cell_type": "code",
   "execution_count": 3,
   "id": "entire-denial",
   "metadata": {},
   "outputs": [
    {
     "data": {
      "application/vnd.jupyter.widget-view+json": {
       "model_id": "664a0d013ac84634b244bc3576264627",
       "version_major": 2,
       "version_minor": 0
      },
      "text/plain": [
       "interactive(children=(IntSlider(value=0, description='time', max=661), IntSlider(value=90, description='elevat…"
      ]
     },
     "metadata": {},
     "output_type": "display_data"
    }
   ],
   "source": [
    "def plot_river_elevation(time, elevation, azimut, dim):\n",
    "    # create data points\n",
    "    x = range(baseline.shape[1])\n",
    "    y = range(baseline.shape[0])\n",
    "    # create grid\n",
    "    X, Y = np.meshgrid(x, y)\n",
    "    Z = baseline + detrended[time]\n",
    "    \n",
    "    # figure\n",
    "    fig = plt.figure(figsize=(8, 8))\n",
    "    #fig.suptitle(\"River bed elevation\")\n",
    "    \n",
    "    if dim == 3:\n",
    "        # 3d plot\n",
    "        ax = fig.add_subplot(1, 1, 1, projection='3d')\n",
    "        ax.view_init(elevation, azimut)\n",
    "        ax.plot_surface(X, Y, Z, cmap='viridis')\n",
    "        ax.set_zlim3d(lower, upper)\n",
    "        ax.set_box_aspect((10, 1, 1))\n",
    "        ax.autoscale_view('tight')\n",
    "        ax.margins(0)\n",
    "        ax.get_xaxis().set_ticks([])\n",
    "        ax.get_yaxis().set_ticks([])\n",
    "        ax.get_zaxis().set_ticks([])\n",
    "    else:\n",
    "        # 2d plot\n",
    "        fig.add_subplot(1, 1, 1)\n",
    "        image = plt.imshow(Z, origin='lower')\n",
    "    \n",
    "    # show\n",
    "    plt.show()\n",
    "    return fig\n",
    "\n",
    "@interact(time=(0, detrended.shape[0] - 1, 1), elevation=(-90,90,5), azimut=(-90,90,5), dimensions=[('2D', 2), ('3D', 3)])\n",
    "def interact_plot(time=0, elevation=90, azimut=-90, dimensions=2):\n",
    "    plot_river_elevation(time, elevation, azimut, dimensions)\n",
    "    \n"
   ]
  },
  {
   "cell_type": "code",
   "execution_count": 5,
   "id": "aboriginal-armstrong",
   "metadata": {},
   "outputs": [
    {
     "data": {
      "application/vnd.jupyter.widget-view+json": {
       "model_id": "98d545f3a72b439d8c32e32100f1a546",
       "version_major": 2,
       "version_minor": 0
      },
      "text/plain": [
       "interactive(children=(Output(),), _dom_classes=('widget-interact',))"
      ]
     },
     "metadata": {},
     "output_type": "display_data"
    }
   ],
   "source": [
    "@interact\n",
    "def animate():\n",
    "    t = 0\n",
    "    step = 5\n",
    "    while t < detrended.shape[0]:\n",
    "        plot_river_elevation(t, 50, -65, 3)\n",
    "        clear_output(wait=True)\n",
    "        t += step\n",
    "    plot_river_elevation(detrended.shape[0] - 1, 50, -65, 3)"
   ]
  },
  {
   "cell_type": "code",
   "execution_count": null,
   "id": "historic-announcement",
   "metadata": {},
   "outputs": [],
   "source": []
  }
 ],
 "metadata": {
  "kernelspec": {
   "display_name": "Python 3",
   "language": "python",
   "name": "python3"
  },
  "language_info": {
   "codemirror_mode": {
    "name": "ipython",
    "version": 3
   },
   "file_extension": ".py",
   "mimetype": "text/x-python",
   "name": "python",
   "nbconvert_exporter": "python",
   "pygments_lexer": "ipython3",
   "version": "3.7.9"
  }
 },
 "nbformat": 4,
 "nbformat_minor": 5
}
